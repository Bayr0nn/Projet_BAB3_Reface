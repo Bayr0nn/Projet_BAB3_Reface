{
  "nbformat": 4,
  "nbformat_minor": 0,
  "metadata": {
    "colab": {
      "provenance": [],
      "gpuType": "T4"
    },
    "kernelspec": {
      "name": "python3",
      "display_name": "Python 3"
    },
    "language_info": {
      "name": "python"
    },
    "accelerator": "GPU",
    "gpuClass": "standard"
  },
  "cells": [
    {
      "cell_type": "code",
      "source": [
        "!git clone https://github.com/FilipAndersson245/cartoon-gan.git"
      ],
      "metadata": {
        "id": "M5LN3vCOR-Kh"
      },
      "execution_count": null,
      "outputs": []
    },
    {
      "cell_type": "code",
      "source": [
        "cd cartoon-gan/"
      ],
      "metadata": {
        "id": "Kzru2b4fSI3Z"
      },
      "execution_count": null,
      "outputs": []
    },
    {
      "cell_type": "code",
      "source": [
        "!python predict.py -i input_path -o output_path"
      ],
      "metadata": {
        "id": "0oAvZAaaSUWH"
      },
      "execution_count": 4,
      "outputs": []
    }
  ]
}